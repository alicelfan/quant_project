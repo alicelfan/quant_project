{
 "cells": [
  {
   "cell_type": "code",
   "execution_count": null,
   "id": "b8d96864",
   "metadata": {},
   "outputs": [],
   "source": [
    "from init_data import get_data, clean_data\n",
    "from tune_hyperparams import tune_hyperparams, annualize_pnl_pct\n",
    "from calculate_indicators import calculate_indicators\n",
    "import pandas as pd"
   ]
  },
  {
   "cell_type": "code",
   "execution_count": null,
   "id": "41c4eaed",
   "metadata": {},
   "outputs": [],
   "source": [
    "stocks = [\"^GSPC\", \"NVDA\", \"MSFT\", \"AAPL\", \"AMZN\", \"META\", \"GOOGL\", \"TSLA\", \"BRK-B\",\n",
    "          \"JPM\", \"WMT\", \"LLY\", \"ORCL\", \"V\", \"NFLX\", \"AVGO\", \"MA\", \"XOM\", \"COST\", \"JNJ\"]\n",
    "\n",
    "time_periods = [\n",
    "    {\"period\": \"6mo\", \"frequency\": \"1d\", \"interval\": \"day\"},\n",
    "    {\"period\": \"1y\", \"frequency\": \"1wk\", \"interval\": \"week\"},\n",
    "    {\"period\": \"2y\", \"frequency\": \"1wk\", \"interval\": \"week\"}\n",
    "]\n",
    "\n",
    "performance = []"
   ]
  },
  {
   "cell_type": "code",
   "execution_count": null,
   "id": "2eade5be",
   "metadata": {},
   "outputs": [],
   "source": [
    "for symbol in stocks:\n",
    "    for time_period in time_periods:\n",
    "        period = time_period[\"period\"]\n",
    "        frequency = time_period[\"frequency\"]\n",
    "        interval = time_period[\"interval\"]\n",
    "        # data processing\n",
    "        raw_financial_data = get_data(symbol, period=period, frequency=frequency)\n",
    "        if raw_financial_data.empty:\n",
    "            continue\n",
    "        cleaned_financial_data = clean_data(raw_financial_data)\n",
    "        processed_financial_data = calculate_indicators(cleaned_financial_data)\n",
    "        processed_financial_data.to_csv(f\"data/{symbol}_{period}_{frequency}.csv\", index = False)\n"
   ]
  },
  {
   "cell_type": "code",
   "execution_count": null,
   "id": "6e878a0a",
   "metadata": {},
   "outputs": [],
   "source": [
    "for i, symbol in enumerate(stocks):\n",
    "    for time_period in time_periods:\n",
    "        period = time_period[\"period\"]\n",
    "        frequency = time_period[\"frequency\"]\n",
    "        interval = time_period[\"interval\"]\n",
    "        processed_financial_data = pd.read_csv(f\"data/{symbol}_{period}_{frequency}.csv\")\n",
    "        pnl, pnl_pct, sharpe_ratio = tune_hyperparams(processed_financial_data, interval=interval, period=period)\n",
    "        annualized_pnl_pct = annualize_pnl_pct(pnl_pct, period)\n",
    "        print(\"annualized pnl\", annualized_pnl_pct)\n",
    "        performance_metric = {\n",
    "            \"stock\" : symbol,\n",
    "            \"time horizon\": period,\n",
    "            \"timeframe\": frequency,\n",
    "            \"pnl\": pnl,\n",
    "            \"annualized pnl percentage\": annualized_pnl_pct,\n",
    "            \"sharpe ratio\": sharpe_ratio\n",
    "        } \n",
    "        print(performance_metric)\n",
    "        performance.append(performance_metric)\n",
    "    if (i + 1) % 5 == 0:\n",
    "        temp = pd.DataFrame.from_dict(performance[i-4:])\n",
    "        print(f\"metrics from {i + 1} stocks\")\n",
    "        print(temp[\"annualized pnl percentage\"].mean())\n",
    "        print(temp[\"sharpe ratio\"].mean())\n"
   ]
  },
  {
   "cell_type": "code",
   "execution_count": null,
   "id": "5ff6cbe8",
   "metadata": {},
   "outputs": [],
   "source": [
    "performance_1y= performance[1:30:3]\n",
    "len(performance_1y)\n",
    "print(performance_1y)"
   ]
  },
  {
   "cell_type": "code",
   "execution_count": null,
   "id": "7b4314bc",
   "metadata": {},
   "outputs": [],
   "source": [
    "performance_dataframe = pd.DataFrame.from_dict(performance)\n",
    "final_avg_return = performance_dataframe['annualized pnl percentage'].mean()\n",
    "final_avg_sharpe = performance_dataframe['sharpe ratio'].mean()\n",
    "print(final_avg_return)\n",
    "print(final_avg_sharpe)"
   ]
  },
  {
   "cell_type": "code",
   "execution_count": null,
   "id": "6d8b9ab6",
   "metadata": {},
   "outputs": [],
   "source": [
    "performance_dataframe.columns\n",
    "df_sorted = performance_dataframe.sort_values([\"annualized pnl percentage\", 'sharpe ratio'], ascending=False)\n",
    "df_sorted"
   ]
  },
  {
   "cell_type": "code",
   "execution_count": null,
   "id": "6f3abf7f",
   "metadata": {},
   "outputs": [],
   "source": [
    "performance_dataframe.to_csv(\"performance_test_10.csv\",index=False)"
   ]
  },
  {
   "cell_type": "code",
   "execution_count": null,
   "id": "bbd406e6",
   "metadata": {},
   "outputs": [],
   "source": []
  }
 ],
 "metadata": {
  "kernelspec": {
   "display_name": "venv",
   "language": "python",
   "name": "python3"
  },
  "language_info": {
   "codemirror_mode": {
    "name": "ipython",
    "version": 3
   },
   "file_extension": ".py",
   "mimetype": "text/x-python",
   "name": "python",
   "nbconvert_exporter": "python",
   "pygments_lexer": "ipython3",
   "version": "3.13.3"
  }
 },
 "nbformat": 4,
 "nbformat_minor": 5
}
